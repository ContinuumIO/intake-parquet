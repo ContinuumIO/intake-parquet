{
 "cells": [
  {
   "cell_type": "markdown",
   "metadata": {},
   "source": [
    "# Example parquet data source\n",
    "\n",
    "We demonstrate using Intake to load dataframe data from parquet"
   ]
  },
  {
   "cell_type": "markdown",
   "metadata": {},
   "source": [
    "### Background\n",
    "\n",
    "The [Apache Parquet](https://parquet.apache.org/) format (henceforth simply called parquet) is a widely-deployed binary storage medium optimized to columnar stoage or large tabular data. It has found a lot of use in the big data/Hadoop ecosystem.\n",
    "\n",
    "The intake-parquet plugin allows for access to a wide variety of parquet data, in single and multiple files and structured directories.\n",
    "\n",
    "Here we demonstrate a small subset of this functionality."
   ]
  },
  {
   "cell_type": "markdown",
   "metadata": {},
   "source": [
    "### Simplest test data"
   ]
  },
  {
   "cell_type": "code",
   "execution_count": 1,
   "metadata": {},
   "outputs": [
    {
     "name": "stdout",
     "output_type": "stream",
     "text": [
      "plugins:\r\n",
      "  source:\r\n",
      "    - module: intake_parquet\r\n",
      "sources:\r\n",
      "  - name: test\r\n",
      "    description: Short example parquet data\r\n",
      "    driver: parquet\r\n",
      "    args:\r\n",
      "      urlpath: !template '{{ CATALOG_DIR }}/test.parq'\r\n"
     ]
    }
   ],
   "source": [
    "# a simple catalog with a single source pointing to parquet data\n",
    "%cat sample.yml"
   ]
  },
  {
   "cell_type": "markdown",
   "metadata": {},
   "source": [
    "The test data is actually made of two data files and metadata. Note that the metadata file(s) are small compared to the data, even for this small data sample; that ensures that you get information about your data quickly, before loading any of the larger data files."
   ]
  },
  {
   "cell_type": "code",
   "execution_count": 2,
   "metadata": {},
   "outputs": [
    {
     "name": "stdout",
     "output_type": "stream",
     "text": [
      "total 192\r\n",
      "-rw-r--r--  1 mdurant  staff    907  7 Jan 17:02 _common_metadata\r\n",
      "-rw-r--r--  1 mdurant  staff   2179  7 Jan 17:02 _metadata\r\n",
      "-rw-r--r--  1 mdurant  staff  41809  7 Jan 17:02 part.0.parquet\r\n",
      "-rw-r--r--  1 mdurant  staff  41809  7 Jan 17:02 part.1.parquet\r\n"
     ]
    }
   ],
   "source": [
    "%ls -l test.parq/"
   ]
  },
  {
   "cell_type": "markdown",
   "metadata": {},
   "source": [
    "We proceed in the usual way, by loading the sample catalog, which contains just one entry."
   ]
  },
  {
   "cell_type": "code",
   "execution_count": 3,
   "metadata": {
    "collapsed": true
   },
   "outputs": [],
   "source": [
    "from intake.catalog import Catalog"
   ]
  },
  {
   "cell_type": "code",
   "execution_count": 4,
   "metadata": {
    "collapsed": true
   },
   "outputs": [],
   "source": [
    "cat = Catalog('sample.yml')"
   ]
  },
  {
   "cell_type": "markdown",
   "metadata": {},
   "source": [
    "Only one test dataset is included in this example."
   ]
  },
  {
   "cell_type": "code",
   "execution_count": 5,
   "metadata": {},
   "outputs": [
    {
     "data": {
      "text/plain": [
       "['test']"
      ]
     },
     "execution_count": 5,
     "metadata": {},
     "output_type": "execute_result"
    }
   ],
   "source": [
    "list(cat)"
   ]
  },
  {
   "cell_type": "code",
   "execution_count": 6,
   "metadata": {},
   "outputs": [
    {
     "data": {
      "text/plain": [
       "{'direct_access': 'forbid', 'container': 'dataframe', 'description': 'Short example parquet data', 'user_parameters': []}"
      ]
     },
     "execution_count": 6,
     "metadata": {},
     "output_type": "execute_result"
    }
   ],
   "source": [
    "cat.test"
   ]
  },
  {
   "cell_type": "code",
   "execution_count": 7,
   "metadata": {
    "collapsed": true
   },
   "outputs": [],
   "source": [
    "source = cat.test.get()"
   ]
  },
  {
   "cell_type": "markdown",
   "metadata": {},
   "source": [
    "Unlike many data source, for parquet we know a lot about the data before loading any of it. Notice that the complete shape is known, and for data which originated with pandas, there is also additional information about the original dataframe types and index (if any)."
   ]
  },
  {
   "cell_type": "code",
   "execution_count": 8,
   "metadata": {},
   "outputs": [
    {
     "data": {
      "text/plain": [
       "{'datashape': None,\n",
       " 'dtype': {'bcat': 'category',\n",
       "  'bhello': dtype('O'),\n",
       "  'cat': 'category',\n",
       "  'f': dtype('float64'),\n",
       "  'hello': dtype('O'),\n",
       "  'i32': dtype('int32'),\n",
       "  'i64': dtype('int64')},\n",
       " 'metadata': {'pandas': '{\"columns\": [{\"metadata\": null, \"name\": \"bhello\", \"numpy_type\": \"object\", \"pandas_type\": \"bytes\"}, {\"metadata\": null, \"name\": \"f\", \"numpy_type\": \"float64\", \"pandas_type\": \"float64\"}, {\"metadata\": null, \"name\": \"i32\", \"numpy_type\": \"int32\", \"pandas_type\": \"int32\"}, {\"metadata\": null, \"name\": \"i64\", \"numpy_type\": \"int64\", \"pandas_type\": \"int64\"}, {\"metadata\": null, \"name\": \"hello\", \"numpy_type\": \"object\", \"pandas_type\": \"unicode\"}, {\"metadata\": {\"num_categories\": 3, \"ordered\": false}, \"name\": \"bcat\", \"numpy_type\": \"int8\", \"pandas_type\": \"categorical\"}, {\"metadata\": {\"num_categories\": 3, \"ordered\": false}, \"name\": \"cat\", \"numpy_type\": \"int8\", \"pandas_type\": \"categorical\"}], \"index_columns\": [], \"pandas_version\": \"0.20.1\"}'},\n",
       " 'npartitions': 2,\n",
       " 'shape': (2002, 7)}"
      ]
     },
     "execution_count": 8,
     "metadata": {},
     "output_type": "execute_result"
    }
   ],
   "source": [
    "source.discover()"
   ]
  },
  {
   "cell_type": "code",
   "execution_count": 9,
   "metadata": {},
   "outputs": [
    {
     "data": {
      "text/html": [
       "<div>\n",
       "<style scoped>\n",
       "    .dataframe tbody tr th:only-of-type {\n",
       "        vertical-align: middle;\n",
       "    }\n",
       "\n",
       "    .dataframe tbody tr th {\n",
       "        vertical-align: top;\n",
       "    }\n",
       "\n",
       "    .dataframe thead th {\n",
       "        text-align: right;\n",
       "    }\n",
       "</style>\n",
       "<table border=\"1\" class=\"dataframe\">\n",
       "  <thead>\n",
       "    <tr style=\"text-align: right;\">\n",
       "      <th></th>\n",
       "      <th>bhello</th>\n",
       "      <th>f</th>\n",
       "      <th>i32</th>\n",
       "      <th>i64</th>\n",
       "      <th>hello</th>\n",
       "      <th>bcat</th>\n",
       "      <th>cat</th>\n",
       "    </tr>\n",
       "  </thead>\n",
       "  <tbody>\n",
       "    <tr>\n",
       "      <th>0</th>\n",
       "      <td>b'people'</td>\n",
       "      <td>1.538369</td>\n",
       "      <td>-68805</td>\n",
       "      <td>-3279161491</td>\n",
       "      <td>people</td>\n",
       "      <td>b'people'</td>\n",
       "      <td>people</td>\n",
       "    </tr>\n",
       "    <tr>\n",
       "      <th>1</th>\n",
       "      <td>b'hello'</td>\n",
       "      <td>0.231123</td>\n",
       "      <td>4486</td>\n",
       "      <td>5298655158</td>\n",
       "      <td>hello</td>\n",
       "      <td>b'hello'</td>\n",
       "      <td>hello</td>\n",
       "    </tr>\n",
       "    <tr>\n",
       "      <th>2</th>\n",
       "      <td>b'people'</td>\n",
       "      <td>1.291016</td>\n",
       "      <td>-54580</td>\n",
       "      <td>-1296043274</td>\n",
       "      <td>people</td>\n",
       "      <td>b'people'</td>\n",
       "      <td>people</td>\n",
       "    </tr>\n",
       "    <tr>\n",
       "      <th>3</th>\n",
       "      <td>b'you'</td>\n",
       "      <td>-0.272557</td>\n",
       "      <td>63590</td>\n",
       "      <td>5635528587</td>\n",
       "      <td>you</td>\n",
       "      <td>b'you'</td>\n",
       "      <td>you</td>\n",
       "    </tr>\n",
       "    <tr>\n",
       "      <th>4</th>\n",
       "      <td>b'people'</td>\n",
       "      <td>1.020135</td>\n",
       "      <td>30722</td>\n",
       "      <td>2668741300</td>\n",
       "      <td>people</td>\n",
       "      <td>b'people'</td>\n",
       "      <td>people</td>\n",
       "    </tr>\n",
       "  </tbody>\n",
       "</table>\n",
       "</div>"
      ],
      "text/plain": [
       "      bhello         f    i32         i64   hello       bcat     cat\n",
       "0  b'people'  1.538369 -68805 -3279161491  people  b'people'  people\n",
       "1   b'hello'  0.231123   4486  5298655158   hello   b'hello'   hello\n",
       "2  b'people'  1.291016 -54580 -1296043274  people  b'people'  people\n",
       "3     b'you' -0.272557  63590  5635528587     you     b'you'     you\n",
       "4  b'people'  1.020135  30722  2668741300  people  b'people'  people"
      ]
     },
     "execution_count": 9,
     "metadata": {},
     "output_type": "execute_result"
    }
   ],
   "source": [
    "# we notice that some of the Object-type fields are actually categorical\n",
    "# when loaded - this is good for saving memory.\n",
    "source.read_partition(0).head()"
   ]
  },
  {
   "cell_type": "code",
   "execution_count": 10,
   "metadata": {},
   "outputs": [
    {
     "data": {
      "text/plain": [
       "bhello      object\n",
       "f          float64\n",
       "i32          int32\n",
       "i64          int64\n",
       "hello       object\n",
       "bcat      category\n",
       "cat       category\n",
       "dtype: object"
      ]
     },
     "execution_count": 10,
     "metadata": {},
     "output_type": "execute_result"
    }
   ],
   "source": [
    "_.dtypes"
   ]
  },
  {
   "cell_type": "markdown",
   "metadata": {},
   "source": [
    "As usual, you can use Dask to read the data. This produces a lazy dataframe, and operations on it will work out-of-core, and potentially be distributed across a cluster of workers, if you have them set up. Note that the Dask version has superior metadata inference, so the categorical columns show up even before loading any data."
   ]
  },
  {
   "cell_type": "code",
   "execution_count": 11,
   "metadata": {},
   "outputs": [
    {
     "data": {
      "text/plain": [
       "bhello      object\n",
       "f          float64\n",
       "i32          int32\n",
       "i64          int64\n",
       "hello       object\n",
       "bcat      category\n",
       "cat       category\n",
       "dtype: object"
      ]
     },
     "execution_count": 11,
     "metadata": {},
     "output_type": "execute_result"
    }
   ],
   "source": [
    "ddf = source.to_dask()\n",
    "ddf.dtypes"
   ]
  },
  {
   "cell_type": "markdown",
   "metadata": {},
   "source": [
    "Many additional parameters can be passed to the parquet reader, e.g., for data filtering (by data chunk or by column), so that you only retrieve the data you need, and so do not risk  "
   ]
  },
  {
   "cell_type": "code",
   "execution_count": 17,
   "metadata": {},
   "outputs": [
    {
     "data": {
      "text/html": [
       "<div>\n",
       "<style scoped>\n",
       "    .dataframe tbody tr th:only-of-type {\n",
       "        vertical-align: middle;\n",
       "    }\n",
       "\n",
       "    .dataframe tbody tr th {\n",
       "        vertical-align: top;\n",
       "    }\n",
       "\n",
       "    .dataframe thead th {\n",
       "        text-align: right;\n",
       "    }\n",
       "</style>\n",
       "<table border=\"1\" class=\"dataframe\">\n",
       "  <thead>\n",
       "    <tr style=\"text-align: right;\">\n",
       "      <th></th>\n",
       "      <th>f</th>\n",
       "      <th>i32</th>\n",
       "      <th>cat</th>\n",
       "    </tr>\n",
       "  </thead>\n",
       "  <tbody>\n",
       "    <tr>\n",
       "      <th>0</th>\n",
       "      <td>1.538369</td>\n",
       "      <td>-68805</td>\n",
       "      <td>people</td>\n",
       "    </tr>\n",
       "    <tr>\n",
       "      <th>1</th>\n",
       "      <td>0.231123</td>\n",
       "      <td>4486</td>\n",
       "      <td>hello</td>\n",
       "    </tr>\n",
       "    <tr>\n",
       "      <th>2</th>\n",
       "      <td>1.291016</td>\n",
       "      <td>-54580</td>\n",
       "      <td>people</td>\n",
       "    </tr>\n",
       "    <tr>\n",
       "      <th>3</th>\n",
       "      <td>-0.272557</td>\n",
       "      <td>63590</td>\n",
       "      <td>you</td>\n",
       "    </tr>\n",
       "    <tr>\n",
       "      <th>4</th>\n",
       "      <td>1.020135</td>\n",
       "      <td>30722</td>\n",
       "      <td>people</td>\n",
       "    </tr>\n",
       "  </tbody>\n",
       "</table>\n",
       "</div>"
      ],
      "text/plain": [
       "          f    i32     cat\n",
       "0  1.538369 -68805  people\n",
       "1  0.231123   4486   hello\n",
       "2  1.291016 -54580  people\n",
       "3 -0.272557  63590     you\n",
       "4  1.020135  30722  people"
      ]
     },
     "execution_count": 17,
     "metadata": {},
     "output_type": "execute_result"
    }
   ],
   "source": [
    "# direct loading with extra parameters - column selection\n",
    "from intake import open_parquet\n",
    "source = open_parquet('test.parq', columns=['f', 'i32', 'cat'])\n",
    "source.read().head()"
   ]
  },
  {
   "cell_type": "code",
   "execution_count": null,
   "metadata": {
    "collapsed": true
   },
   "outputs": [],
   "source": []
  }
 ],
 "metadata": {
  "kernelspec": {
   "display_name": "Python [default]",
   "language": "python",
   "name": "python3"
  },
  "language_info": {
   "codemirror_mode": {
    "name": "ipython",
    "version": 3
   },
   "file_extension": ".py",
   "mimetype": "text/x-python",
   "name": "python",
   "nbconvert_exporter": "python",
   "pygments_lexer": "ipython3",
   "version": "3.5.3"
  }
 },
 "nbformat": 4,
 "nbformat_minor": 2
}
